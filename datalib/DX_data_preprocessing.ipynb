{
 "cells": [
  {
   "cell_type": "code",
   "execution_count": 1,
   "id": "dead4466-c9c3-4ce9-89b7-e734ea6fc108",
   "metadata": {},
   "outputs": [],
   "source": [
    "import pandas as pd\n",
    "import glob"
   ]
  },
  {
   "cell_type": "code",
   "execution_count": 2,
   "id": "49e07ac7-a146-46d1-a3b9-628f3269ff77",
   "metadata": {},
   "outputs": [],
   "source": [
    "#사업단명 매핑\n",
    "사업단명_매핑 = {\n",
    "    'dongbu': '동부사업소',\n",
    "    'gangbyeon': '강변사업단',\n",
    "    'gijang_gijang': '기장사업소 기장',\n",
    "    'gijang_illgwang': '기장사업소 일광',\n",
    "    'gijang_munoseong': '기장사업소 문오성',\n",
    "    'haeundae': '해운대사업단',\n",
    "    'jeonggwan': '정관사업소',\n",
    "    'joongang': '중앙사업소',\n",
    "    'nambu': '남부사업소',\n",
    "    'noksan': '녹산사업소',\n",
    "    'seobu': '서부사업소',\n",
    "    'suyeong': '수영사업단',\n",
    "    'yeongdo': '영도사업소'\n",
    "}"
   ]
  },
  {
   "cell_type": "code",
   "execution_count": 3,
   "id": "895d2047-7d9e-4ff2-b17c-bdcb88c73a23",
   "metadata": {},
   "outputs": [],
   "source": [
    "# CSV 파일 불러오기\n",
    "csv_files = glob.glob(\"sujilList_*.csv\")\n",
    "df_list = []"
   ]
  },
  {
   "cell_type": "code",
   "execution_count": 4,
   "id": "5d150d17-263b-40e4-a26a-abc1d32318a7",
   "metadata": {},
   "outputs": [],
   "source": [
    "for file in csv_files:\n",
    "    region_key = file.split(\"_\", 1)[1].split(\".\")[0]\n",
    "    사업단명 = 사업단명_매핑.get(region_key, region_key)\n",
    "    df = pd.read_csv(file, encoding='euc-kr')\n",
    "\n",
    "    # 1열에 '사업단' 열 추가\n",
    "    df.insert(0, '사업단', 사업단명)\n",
    "\n",
    "    # '일자' → '날짜'로 이름 변경\n",
    "    if '일자' in df.columns:\n",
    "        df.rename(columns={'일자': '날짜'}, inplace=True)\n",
    "        df['날짜'] = pd.to_datetime(df['날짜'], format='%Y%m%d')  # 날짜 포맷 변경\n",
    "\n",
    "    # '소각처리량(톤/일)' → '하수처리량(㎥/일)'로 변경\n",
    "    if '소각처리량(톤/일)' in df.columns:\n",
    "        df.rename(columns={'소각처리량(톤/일)': '하수처리량(㎥/일)'}, inplace=True)\n",
    "\n",
    "    df_list.append(df)"
   ]
  },
  {
   "cell_type": "code",
   "execution_count": 5,
   "id": "ad03d4ec-9c15-4031-99d5-99a3a22db25b",
   "metadata": {},
   "outputs": [],
   "source": [
    "# 전체 병합\n",
    "df_all = pd.concat(df_list, ignore_index=True)"
   ]
  },
  {
   "cell_type": "code",
   "execution_count": 6,
   "id": "747266fb-6161-4499-bdb9-78e8e6409259",
   "metadata": {},
   "outputs": [],
   "source": [
    "# 저장\n",
    "df_all.to_csv(\"5개년_부산_일별방류수질현황.csv\", index=False, encoding='utf-8-sig', na_rep='null')"
   ]
  },
  {
   "cell_type": "code",
   "execution_count": null,
   "id": "1e6dfcef-2502-416a-bdda-64f2877d72fd",
   "metadata": {},
   "outputs": [],
   "source": []
  }
 ],
 "metadata": {
  "kernelspec": {
   "display_name": "Python [conda env:base] *",
   "language": "python",
   "name": "conda-base-py"
  },
  "language_info": {
   "codemirror_mode": {
    "name": "ipython",
    "version": 3
   },
   "file_extension": ".py",
   "mimetype": "text/x-python",
   "name": "python",
   "nbconvert_exporter": "python",
   "pygments_lexer": "ipython3",
   "version": "3.12.7"
  }
 },
 "nbformat": 4,
 "nbformat_minor": 5
}
