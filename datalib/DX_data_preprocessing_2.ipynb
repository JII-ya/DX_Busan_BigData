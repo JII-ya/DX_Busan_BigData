{
 "cells": [
  {
   "cell_type": "code",
   "execution_count": 1,
   "id": "dead4466-c9c3-4ce9-89b7-e734ea6fc108",
   "metadata": {},
   "outputs": [],
   "source": [
    "import pandas as pd\n",
    "import numpy as np"
   ]
  },
  {
   "cell_type": "code",
   "execution_count": 2,
   "id": "895d2047-7d9e-4ff2-b17c-bdcb88c73a23",
   "metadata": {},
   "outputs": [],
   "source": [
    "# CSV 파일 불러오기\n",
    "df = pd.read_csv(\"4개년_부산_일별방류수질현황.csv\")"
   ]
  },
  {
   "cell_type": "code",
   "execution_count": 3,
   "id": "747266fb-6161-4499-bdb9-78e8e6409259",
   "metadata": {},
   "outputs": [],
   "source": [
    "# ph 컬럼 제거\n",
    "df_cleaned = df.drop(columns=['ph'], axis=1)"
   ]
  },
  {
   "cell_type": "code",
   "execution_count": 4,
   "id": "1e6dfcef-2502-416a-bdda-64f2877d72fd",
   "metadata": {},
   "outputs": [],
   "source": [
    "# 날짜 기반 파생변수 생성\n",
    "df_cleaned['날짜'] = pd.to_datetime(df_cleaned['날짜'])\n",
    "df_cleaned['월'] = df_cleaned['날짜'].dt.month"
   ]
  },
  {
   "cell_type": "code",
   "execution_count": 5,
   "id": "4e3221b3-acc6-4859-9014-5b973b3fe7af",
   "metadata": {},
   "outputs": [],
   "source": [
    "# 여기서 숫자형 강제 변환!\n",
    "cols_to_fill = ['bod', 'toc', 'ss', 'tn', 'tp']\n",
    "df_cleaned[cols_to_fill] = df_cleaned[cols_to_fill].apply(pd.to_numeric, errors='coerce')\n",
    "\n",
    "# 사업단+월 그룹별 중간값 계산\n",
    "median_values = df_cleaned.groupby(['사업단', '월'])[cols_to_fill].median().reset_index()\n",
    "\n",
    "df_filled = df_cleaned.copy()\n",
    "\n",
    "# 각 컬럼 결측치 채우기\n",
    "for col in cols_to_fill:\n",
    "    df_filled = df_filled.merge(\n",
    "        median_values[['사업단', '월', col]].rename(columns={col: f'{col}_median'}),\n",
    "        on=['사업단', '월'],\n",
    "        how='left'\n",
    "    )\n",
    "    df_filled[col] = df_filled[col].fillna(df_filled[f'{col}_median'])\n",
    "    df_filled = df_filled.drop(columns=[f'{col}_median'])\n",
    "\n",
    "# 중간값으로도 채워지지 않은 행 제거\n",
    "df_final = df_filled.dropna()"
   ]
  },
  {
   "cell_type": "code",
   "execution_count": 6,
   "id": "4003e626-f6c7-428d-b3fa-d3b789880188",
   "metadata": {},
   "outputs": [],
   "source": [
    "## 기간 필터링 및 데이터 품질 점검\n",
    "\n",
    "# 기준 일수 설정\n",
    "num_days_full = 1461\n",
    "\n",
    "# 사업단별 날짜 개수 세기\n",
    "business_day_counts_full = df_final.groupby('사업단')['날짜'].count().reset_index()\n",
    "business_day_counts_full.rename(columns={'날짜': '보유일수'}, inplace=True)\n",
    "\n",
    "# 부족한일수 계산\n",
    "business_day_counts_full['필요일수'] = num_days_full\n",
    "business_day_counts_full['부족한일수'] = num_days_full - business_day_counts_full['보유일수']"
   ]
  },
  {
   "cell_type": "code",
   "execution_count": 7,
   "id": "32c40f8a-c959-46b9-bc24-d6ade7431b56",
   "metadata": {},
   "outputs": [],
   "source": [
    "# 사업단 필터링\n",
    "df_final = df_final[~df_final['사업단'].isin([\"영도사업소\", \"기장사업소 일광\", \"동부사업소\"])]"
   ]
  },
  {
   "cell_type": "code",
   "execution_count": 8,
   "id": "2e367833-2d24-44e1-85de-2ef900cbffde",
   "metadata": {},
   "outputs": [],
   "source": [
    "# 저장\n",
    "df_final.to_csv(\"부산환경공단 일별 방류수 수질정보.csv\", index=False, encoding='utf-8-sig', na_rep='null')"
   ]
  },
  {
   "cell_type": "code",
   "execution_count": null,
   "id": "27bd0838-6d3e-4571-8acb-28a048cb7d4d",
   "metadata": {},
   "outputs": [],
   "source": []
  }
 ],
 "metadata": {
  "kernelspec": {
   "display_name": "Python [conda env:base] *",
   "language": "python",
   "name": "conda-base-py"
  },
  "language_info": {
   "codemirror_mode": {
    "name": "ipython",
    "version": 3
   },
   "file_extension": ".py",
   "mimetype": "text/x-python",
   "name": "python",
   "nbconvert_exporter": "python",
   "pygments_lexer": "ipython3",
   "version": "3.12.7"
  }
 },
 "nbformat": 4,
 "nbformat_minor": 5
}
